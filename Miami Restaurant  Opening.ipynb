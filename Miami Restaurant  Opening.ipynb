{
    "cells": [
        {
            "cell_type": "markdown",
            "metadata": {
                "collapsed": true
            },
            "source": "## Introduction/Business Problem"
        },
        {
            "cell_type": "markdown",
            "metadata": {},
            "source": "Recently, Maimi was ranked as the third best city for \"Foodies\", people who love food, by Wallethub.com. Miami was ranked this high due to the high density of restaurants, third in restaurants per capita, the high quality of the restaurants, and the diversity of the restaurants. On top of this, Miami was in the bottom third of cities when ranked by affordability. This would make Miami an attractive spot to open a restaurant. The city is known for having good restaurants and customers are already ready to pay high prices. The only problem is the difficulty in opening a succesful restaurant. Therefore, I aim to pick the best neighborhood in to open a new restaurant. When choosing a location, a number of factors need to be considered including visibility and parking availability, according to business.com. This project aims to find locations that are easily visible and where extra space is cheaper. Additionally, will attempt to choose a location with limited competition."
        },
        {
            "cell_type": "markdown",
            "metadata": {},
            "source": "## Data"
        },
        {
            "cell_type": "markdown",
            "metadata": {},
            "source": "This project will use Foursquare location data. This will allow for creating datasets that set apart different locations. The datasets will include proximity to residential neigborhoods and other restauraunts. Additinally, a dataset containing prices of real estate in the neighborhoods will be included for analyzation. Hopefully, when the analysis is done a "
        },
        {
            "cell_type": "code",
            "execution_count": null,
            "metadata": {},
            "outputs": [],
            "source": ""
        }
    ],
    "metadata": {
        "kernelspec": {
            "display_name": "Python 3.6",
            "language": "python",
            "name": "python3"
        },
        "language_info": {
            "codemirror_mode": {
                "name": "ipython",
                "version": 3
            },
            "file_extension": ".py",
            "mimetype": "text/x-python",
            "name": "python",
            "nbconvert_exporter": "python",
            "pygments_lexer": "ipython3",
            "version": "3.6.9"
        }
    },
    "nbformat": 4,
    "nbformat_minor": 1
}